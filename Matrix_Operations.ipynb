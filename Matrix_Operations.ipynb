{
  "nbformat": 4,
  "nbformat_minor": 0,
  "metadata": {
    "colab": {
      "name": "Matrix Operations.ipynb",
      "provenance": [],
      "authorship_tag": "ABX9TyO6fk+3Oa97nfV/XU7n8WrN",
      "include_colab_link": true
    },
    "kernelspec": {
      "name": "python3",
      "display_name": "Python 3"
    },
    "language_info": {
      "name": "python"
    }
  },
  "cells": [
    {
      "cell_type": "markdown",
      "metadata": {
        "id": "view-in-github",
        "colab_type": "text"
      },
      "source": [
        "<a href=\"https://colab.research.google.com/github/tofighi/Linear-Algebra/blob/main/Matrix_Operations.ipynb\" target=\"_parent\"><img src=\"https://colab.research.google.com/assets/colab-badge.svg\" alt=\"Open In Colab\"/></a>"
      ]
    },
    {
      "cell_type": "markdown",
      "source": [
        "# Differences in Matrix Representation - SymPy vs. NumPy\n",
        "SymPy stores entries in 1D arrays, while NumPy stores entries in 2D arrays."
      ],
      "metadata": {
        "id": "HPugJM05N_44"
      }
    },
    {
      "cell_type": "code",
      "execution_count": 1,
      "metadata": {
        "id": "4Rbzz0mGITMx"
      },
      "outputs": [],
      "source": [
        "import sympy as sp \n",
        "import numpy as np\n",
        "sp.init_printing(use_unicode=True)"
      ]
    },
    {
      "cell_type": "code",
      "source": [
        "#Sympy version of our demo matrix\n",
        "As = sp.Matrix([[1,2,3], [4,5,6]])\n",
        "As"
      ],
      "metadata": {
        "colab": {
          "base_uri": "https://localhost:8080/",
          "height": 58
        },
        "id": "SW_LC59ia3Ea",
        "outputId": "68bb2072-25e9-43ae-947e-f90c351098f8"
      },
      "execution_count": 4,
      "outputs": [
        {
          "output_type": "execute_result",
          "data": {
            "text/latex": "$\\displaystyle \\left[\\begin{matrix}1 & 2 & 3\\\\4 & 5 & 6\\end{matrix}\\right]$",
            "text/plain": [
              "⎡1  2  3⎤\n",
              "⎢       ⎥\n",
              "⎣4  5  6⎦"
            ]
          },
          "metadata": {},
          "execution_count": 4
        }
      ]
    },
    {
      "cell_type": "code",
      "source": [
        "#Numpy version of our demo matrix - Libraries are inter-compatible\n",
        "An = np. array(As)\n",
        "An"
      ],
      "metadata": {
        "colab": {
          "base_uri": "https://localhost:8080/"
        },
        "id": "9N7fxat-bCQQ",
        "outputId": "7cf97e09-7088-46b1-c570-2b048051198c"
      },
      "execution_count": 5,
      "outputs": [
        {
          "output_type": "execute_result",
          "data": {
            "text/plain": [
              "array([[1, 2, 3],\n",
              "       [4, 5, 6]], dtype=object)"
            ]
          },
          "metadata": {},
          "execution_count": 5
        }
      ]
    }
  ]
}