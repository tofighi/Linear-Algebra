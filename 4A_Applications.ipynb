{
  "cells": [
    {
      "cell_type": "markdown",
      "metadata": {
        "id": "view-in-github",
        "colab_type": "text"
      },
      "source": [
        "<a href=\"https://colab.research.google.com/github/tofighi/Linear-Algebra/blob/main/4A_Applications.ipynb\" target=\"_parent\"><img src=\"https://colab.research.google.com/assets/colab-badge.svg\" alt=\"Open In Colab\"/></a>"
      ]
    },
    {
      "cell_type": "code",
      "execution_count": 1,
      "metadata": {
        "id": "m8QME-tRPF4v"
      },
      "outputs": [],
      "source": [
        "import sympy as sp\n",
        "sp.init_printing(use_unicode=True)"
      ]
    },
    {
      "cell_type": "code",
      "execution_count": 2,
      "metadata": {
        "colab": {
          "base_uri": "https://localhost:8080/",
          "height": 98
        },
        "id": "p-yhH5KGPF41",
        "outputId": "9026f814-e8a9-415c-e2f8-4297c36b917d"
      },
      "outputs": [
        {
          "output_type": "execute_result",
          "data": {
            "text/latex": "$\\displaystyle \\left[\\begin{matrix}1 & 1 & 1 & 0 & 0 & 0 & 500\\\\1 & 0 & 0 & 1 & 0 & 1 & 400\\\\0 & 0 & 1 & 0 & 1 & -1 & 100\\\\0 & 1 & 0 & -1 & -1 & 0 & 0\\end{matrix}\\right]$",
            "text/plain": [
              "⎡1  1  1  0   0   0   500⎤\n",
              "⎢                        ⎥\n",
              "⎢1  0  0  1   0   1   400⎥\n",
              "⎢                        ⎥\n",
              "⎢0  0  1  0   1   -1  100⎥\n",
              "⎢                        ⎥\n",
              "⎣0  1  0  -1  -1  0    0 ⎦"
            ]
          },
          "metadata": {},
          "execution_count": 2
        }
      ],
      "source": [
        "flowMat = sp.Matrix([[1,1,1,0,0,0,500], [1,0,0,1,0,1,400], [0,0,1,0,1,-1,100], [0,1,0,-1,-1,0,0]])\n",
        "flowMat"
      ]
    },
    {
      "cell_type": "code",
      "execution_count": 3,
      "metadata": {
        "colab": {
          "base_uri": "https://localhost:8080/",
          "height": 98
        },
        "id": "fhRpUGdtPF43",
        "outputId": "ceb7d898-6e04-43e5-dddc-3159c7e11544"
      },
      "outputs": [
        {
          "output_type": "execute_result",
          "data": {
            "text/latex": "$\\displaystyle \\left( \\left[\\begin{matrix}1 & 0 & 0 & 1 & 0 & 1 & 400\\\\0 & 1 & 0 & -1 & -1 & 0 & 0\\\\0 & 0 & 1 & 0 & 1 & -1 & 100\\\\0 & 0 & 0 & 0 & 0 & 0 & 0\\end{matrix}\\right], \\  \\left( 0, \\  1, \\  2\\right)\\right)$",
            "text/plain": [
              "⎛⎡1  0  0  1   0   1   400⎤           ⎞\n",
              "⎜⎢                        ⎥           ⎟\n",
              "⎜⎢0  1  0  -1  -1  0    0 ⎥           ⎟\n",
              "⎜⎢                        ⎥, (0, 1, 2)⎟\n",
              "⎜⎢0  0  1  0   1   -1  100⎥           ⎟\n",
              "⎜⎢                        ⎥           ⎟\n",
              "⎝⎣0  0  0  0   0   0    0 ⎦           ⎠"
            ]
          },
          "metadata": {},
          "execution_count": 3
        }
      ],
      "source": [
        "flowMat.rref()"
      ]
    },
    {
      "cell_type": "code",
      "execution_count": 4,
      "metadata": {
        "colab": {
          "base_uri": "https://localhost:8080/",
          "height": 78
        },
        "id": "1Pwekte2PF45",
        "outputId": "3f010399-9b32-47ae-caf5-3d480d9f107a"
      },
      "outputs": [
        {
          "output_type": "execute_result",
          "data": {
            "text/latex": "$\\displaystyle \\left[\\begin{matrix}0.3 & 0 & 0.5\\\\0.6 & 0.8 & 0.5\\\\0.1 & 0.2 & 0\\end{matrix}\\right]$",
            "text/plain": [
              "⎡0.3   0   0.5⎤\n",
              "⎢             ⎥\n",
              "⎢0.6  0.8  0.5⎥\n",
              "⎢             ⎥\n",
              "⎣0.1  0.2   0 ⎦"
            ]
          },
          "metadata": {},
          "execution_count": 4
        }
      ],
      "source": [
        "coffeeMat = sp.Matrix([[0.3,0.6,0.1], [0,0.8,0.2], [0.5,0.5,0]]).T\n",
        "coffeeMat"
      ]
    },
    {
      "cell_type": "code",
      "execution_count": 5,
      "metadata": {
        "colab": {
          "base_uri": "https://localhost:8080/",
          "height": 78
        },
        "id": "PBHrH9GoPF46",
        "outputId": "3e04ea36-e34c-41c2-d5ef-ccf75004ac99"
      },
      "outputs": [
        {
          "output_type": "execute_result",
          "data": {
            "text/latex": "$\\displaystyle \\left[\\begin{matrix}1\\\\0\\\\0\\end{matrix}\\right]$",
            "text/plain": [
              "⎡1⎤\n",
              "⎢ ⎥\n",
              "⎢0⎥\n",
              "⎢ ⎥\n",
              "⎣0⎦"
            ]
          },
          "metadata": {},
          "execution_count": 5
        }
      ],
      "source": [
        "drinks = sp.Matrix([1,0,0])\n",
        "drinks"
      ]
    },
    {
      "cell_type": "code",
      "execution_count": 6,
      "metadata": {
        "colab": {
          "base_uri": "https://localhost:8080/"
        },
        "id": "ZaSsVcbPPF46",
        "outputId": "2a3e685d-f979-4c79-e457-df3cc7d1996f"
      },
      "outputs": [
        {
          "output_type": "stream",
          "name": "stdout",
          "text": [
            "Matrix([[0.300000000000000], [0.600000000000000], [0.100000000000000]])\n",
            "Matrix([[0.140000000000000], [0.710000000000000], [0.150000000000000]])\n",
            "Matrix([[0.117000000000000], [0.727000000000000], [0.156000000000000]])\n",
            "Matrix([[0.113100000000000], [0.729800000000000], [0.157100000000000]])\n",
            "Matrix([[0.112480000000000], [0.730250000000000], [0.157270000000000]])\n",
            "Matrix([[0.112379000000000], [0.730323000000000], [0.157298000000000]])\n",
            "Matrix([[0.112362700000000], [0.730334800000000], [0.157302500000000]])\n",
            "Matrix([[0.112360060000000], [0.730336710000000], [0.157303230000000]])\n",
            "Matrix([[0.112359633000000], [0.730337019000000], [0.157303348000000]])\n",
            "Matrix([[0.112359563900000], [0.730337069000000], [0.157303367100000]])\n"
          ]
        }
      ],
      "source": [
        "for i in range(10):\n",
        "    drinks = coffeeMat*drinks\n",
        "    print(drinks)"
      ]
    }
  ],
  "metadata": {
    "kernelspec": {
      "display_name": "Python 3",
      "language": "python",
      "name": "python3"
    },
    "language_info": {
      "codemirror_mode": {
        "name": "ipython",
        "version": 3
      },
      "file_extension": ".py",
      "mimetype": "text/x-python",
      "name": "python",
      "nbconvert_exporter": "python",
      "pygments_lexer": "ipython3",
      "version": "3.7.3"
    },
    "colab": {
      "name": "4A - Applications.ipynb",
      "provenance": [],
      "include_colab_link": true
    }
  },
  "nbformat": 4,
  "nbformat_minor": 0
}