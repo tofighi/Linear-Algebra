{
  "cells": [
    {
      "cell_type": "markdown",
      "metadata": {
        "id": "view-in-github",
        "colab_type": "text"
      },
      "source": [
        "<a href=\"https://colab.research.google.com/github/tofighi/Linear-Algebra/blob/main/9B_Matrix_Diagonalization_and_Large_Power.ipynb\" target=\"_parent\"><img src=\"https://colab.research.google.com/assets/colab-badge.svg\" alt=\"Open In Colab\"/></a>"
      ]
    },
    {
      "cell_type": "code",
      "execution_count": 1,
      "metadata": {
        "id": "bNv-zeIBBzNa"
      },
      "outputs": [],
      "source": [
        "import sympy as sp"
      ]
    },
    {
      "cell_type": "markdown",
      "metadata": {
        "id": "03UsCvmqBzNc"
      },
      "source": [
        "# Orignal Matrix A"
      ]
    },
    {
      "cell_type": "code",
      "execution_count": 2,
      "metadata": {
        "scrolled": true,
        "colab": {
          "base_uri": "https://localhost:8080/",
          "height": 57
        },
        "id": "BBlkRnQiBzNd",
        "outputId": "3268a6bd-4aeb-4bc0-81d0-c3236768510e"
      },
      "outputs": [
        {
          "output_type": "execute_result",
          "data": {
            "text/plain": [
              "Matrix([\n",
              "[1, 6],\n",
              "[4, 3]])"
            ],
            "text/latex": "$\\displaystyle \\left[\\begin{matrix}1 & 6\\\\4 & 3\\end{matrix}\\right]$"
          },
          "metadata": {},
          "execution_count": 2
        }
      ],
      "source": [
        "A = sp.Matrix([[1,6], [4,3]])\n",
        "A"
      ]
    },
    {
      "cell_type": "markdown",
      "metadata": {
        "id": "hnTZNa8kBzNe"
      },
      "source": [
        "# Matrices P, D, and P-inverse"
      ]
    },
    {
      "cell_type": "code",
      "execution_count": 3,
      "metadata": {
        "colab": {
          "base_uri": "https://localhost:8080/",
          "height": 57
        },
        "id": "Xa-klglBBzNe",
        "outputId": "31f271c1-7e9c-4df4-e3b6-5c85d387ac06"
      },
      "outputs": [
        {
          "output_type": "execute_result",
          "data": {
            "text/plain": [
              "Matrix([\n",
              "[1, -3],\n",
              "[1,  2]])"
            ],
            "text/latex": "$\\displaystyle \\left[\\begin{matrix}1 & -3\\\\1 & 2\\end{matrix}\\right]$"
          },
          "metadata": {},
          "execution_count": 3
        }
      ],
      "source": [
        "P = sp.Matrix([[1,-3], [1,2]])\n",
        "P"
      ]
    },
    {
      "cell_type": "code",
      "execution_count": 4,
      "metadata": {
        "colab": {
          "base_uri": "https://localhost:8080/",
          "height": 57
        },
        "id": "C3HHGTZ_BzNf",
        "outputId": "bd61ff4a-ed0b-4166-b50f-151d2904a38b"
      },
      "outputs": [
        {
          "output_type": "execute_result",
          "data": {
            "text/plain": [
              "Matrix([\n",
              "[ 2/5, 3/5],\n",
              "[-1/5, 1/5]])"
            ],
            "text/latex": "$\\displaystyle \\left[\\begin{matrix}\\frac{2}{5} & \\frac{3}{5}\\\\- \\frac{1}{5} & \\frac{1}{5}\\end{matrix}\\right]$"
          },
          "metadata": {},
          "execution_count": 4
        }
      ],
      "source": [
        "Pinv = P.inv()\n",
        "Pinv"
      ]
    },
    {
      "cell_type": "code",
      "execution_count": 5,
      "metadata": {
        "colab": {
          "base_uri": "https://localhost:8080/",
          "height": 57
        },
        "id": "ozy8iyLnBzNf",
        "outputId": "5dfcd9f2-c2a4-4925-bd1a-ff2dc80f0731"
      },
      "outputs": [
        {
          "output_type": "execute_result",
          "data": {
            "text/plain": [
              "Matrix([\n",
              "[7,  0],\n",
              "[0, -3]])"
            ],
            "text/latex": "$\\displaystyle \\left[\\begin{matrix}7 & 0\\\\0 & -3\\end{matrix}\\right]$"
          },
          "metadata": {},
          "execution_count": 5
        }
      ],
      "source": [
        "D = sp.Matrix([[7,0], [0,-3]])\n",
        "D"
      ]
    },
    {
      "cell_type": "code",
      "execution_count": 6,
      "metadata": {
        "colab": {
          "base_uri": "https://localhost:8080/",
          "height": 60
        },
        "id": "s6fkWrXDBzNf",
        "outputId": "0b57454f-17ee-4171-812f-d0a808cfd68f"
      },
      "outputs": [
        {
          "output_type": "execute_result",
          "data": {
            "text/plain": [
              "Matrix([\n",
              "[7**k,       0],\n",
              "[   0, (-3)**k]])"
            ],
            "text/latex": "$\\displaystyle \\left[\\begin{matrix}7^{k} & 0\\\\0 & \\left(-3\\right)^{k}\\end{matrix}\\right]$"
          },
          "metadata": {},
          "execution_count": 6
        }
      ],
      "source": [
        "# Need to define k as a symbolic variable\n",
        "k = sp.symbols('k')\n",
        "D_k = D**k\n",
        "D_k"
      ]
    },
    {
      "cell_type": "code",
      "execution_count": 7,
      "metadata": {
        "colab": {
          "base_uri": "https://localhost:8080/",
          "height": 67
        },
        "id": "IIAJlYZQBzNg",
        "outputId": "f4967a9a-4346-4b87-882a-ea3a52d7dc72"
      },
      "outputs": [
        {
          "output_type": "execute_result",
          "data": {
            "text/plain": [
              "Matrix([\n",
              "[ 3*(-3)**k/5 + 2*7**k/5, -3*(-3)**k/5 + 3*7**k/5],\n",
              "[-2*(-3)**k/5 + 2*7**k/5,  2*(-3)**k/5 + 3*7**k/5]])"
            ],
            "text/latex": "$\\displaystyle \\left[\\begin{matrix}\\frac{3 \\left(-3\\right)^{k}}{5} + \\frac{2 \\cdot 7^{k}}{5} & - \\frac{3 \\left(-3\\right)^{k}}{5} + \\frac{3 \\cdot 7^{k}}{5}\\\\- \\frac{2 \\left(-3\\right)^{k}}{5} + \\frac{2 \\cdot 7^{k}}{5} & \\frac{2 \\left(-3\\right)^{k}}{5} + \\frac{3 \\cdot 7^{k}}{5}\\end{matrix}\\right]$"
          },
          "metadata": {},
          "execution_count": 7
        }
      ],
      "source": [
        "# Formula for A to the power of k\n",
        "A_k = P*D_k*Pinv\n",
        "A_k"
      ]
    },
    {
      "cell_type": "code",
      "execution_count": 8,
      "metadata": {
        "scrolled": true,
        "colab": {
          "base_uri": "https://localhost:8080/",
          "height": 67
        },
        "id": "bdzkw6C7BzNg",
        "outputId": "0a6d8440-9dd4-45b3-ef64-3b884ae2de60"
      },
      "outputs": [
        {
          "output_type": "execute_result",
          "data": {
            "text/plain": [
              "Matrix([\n",
              "[ 3*(-3)**k/5 + 2*7**k/5, -3*(-3)**k/5 + 3*7**k/5],\n",
              "[-2*(-3)**k/5 + 2*7**k/5,  2*(-3)**k/5 + 3*7**k/5]])"
            ],
            "text/latex": "$\\displaystyle \\left[\\begin{matrix}\\frac{3 \\left(-3\\right)^{k}}{5} + \\frac{2 \\cdot 7^{k}}{5} & - \\frac{3 \\left(-3\\right)^{k}}{5} + \\frac{3 \\cdot 7^{k}}{5}\\\\- \\frac{2 \\left(-3\\right)^{k}}{5} + \\frac{2 \\cdot 7^{k}}{5} & \\frac{2 \\left(-3\\right)^{k}}{5} + \\frac{3 \\cdot 7^{k}}{5}\\end{matrix}\\right]$"
          },
          "metadata": {},
          "execution_count": 8
        }
      ],
      "source": [
        "# Diagonalize A directly:  \n",
        "P*(D**k)*(P.inv())"
      ]
    },
    {
      "cell_type": "markdown",
      "metadata": {
        "id": "UhfhSQZUBzNh"
      },
      "source": [
        "# 3x3 Diagonalization Example"
      ]
    },
    {
      "cell_type": "code",
      "execution_count": 9,
      "metadata": {
        "colab": {
          "base_uri": "https://localhost:8080/",
          "height": 78
        },
        "id": "rk5dP2x5BzNh",
        "outputId": "8880ebf5-d6c7-4e5e-a34c-3821e556f08e"
      },
      "outputs": [
        {
          "output_type": "execute_result",
          "data": {
            "text/plain": [
              "Matrix([\n",
              "[ 1, -4,  1],\n",
              "[-2,  1,  6],\n",
              "[ 5,  0, -1]])"
            ],
            "text/latex": "$\\displaystyle \\left[\\begin{matrix}1 & -4 & 1\\\\-2 & 1 & 6\\\\5 & 0 & -1\\end{matrix}\\right]$"
          },
          "metadata": {},
          "execution_count": 9
        }
      ],
      "source": [
        "Q = sp.Matrix([[1,-4,1], [-2,1,6], [5,0,-1]])\n",
        "Q"
      ]
    },
    {
      "cell_type": "code",
      "execution_count": 10,
      "metadata": {
        "colab": {
          "base_uri": "https://localhost:8080/",
          "height": 78
        },
        "id": "zzaqUSHyBzNh",
        "outputId": "808856af-1b34-4048-eb69-6ca61c6808e4"
      },
      "outputs": [
        {
          "output_type": "execute_result",
          "data": {
            "text/plain": [
              "Matrix([\n",
              "[3, 0,  0],\n",
              "[0, 3,  0],\n",
              "[0, 0, -4]])"
            ],
            "text/latex": "$\\displaystyle \\left[\\begin{matrix}3 & 0 & 0\\\\0 & 3 & 0\\\\0 & 0 & -4\\end{matrix}\\right]$"
          },
          "metadata": {},
          "execution_count": 10
        }
      ],
      "source": [
        "E = sp.Matrix([[3,0,0], [0,3,0], [0,0,-4]])\n",
        "E"
      ]
    },
    {
      "cell_type": "code",
      "execution_count": 11,
      "metadata": {
        "colab": {
          "base_uri": "https://localhost:8080/",
          "height": 93
        },
        "id": "hr09pKaCBzNi",
        "outputId": "09b6b1c6-ba0b-4ca4-844f-c66bff23df48"
      },
      "outputs": [
        {
          "output_type": "execute_result",
          "data": {
            "text/plain": [
              "Matrix([\n",
              "[5*(-4)**k/118 + 113*3**k/118,  10*(-4)**k/59 - 10*3**k/59,    7*(-4)**k/118 - 7*3**k/118],\n",
              "[  15*(-4)**k/59 - 15*3**k/59,     60*(-4)**k/59 - 3**k/59,    21*(-4)**k/59 - 21*3**k/59],\n",
              "[ -5*(-4)**k/118 + 5*3**k/118, -10*(-4)**k/59 + 10*3**k/59, -7*(-4)**k/118 + 125*3**k/118]])"
            ],
            "text/latex": "$\\displaystyle \\left[\\begin{matrix}\\frac{5 \\left(-4\\right)^{k}}{118} + \\frac{113 \\cdot 3^{k}}{118} & \\frac{10 \\left(-4\\right)^{k}}{59} - \\frac{10 \\cdot 3^{k}}{59} & \\frac{7 \\left(-4\\right)^{k}}{118} - \\frac{7 \\cdot 3^{k}}{118}\\\\\\frac{15 \\left(-4\\right)^{k}}{59} - \\frac{15 \\cdot 3^{k}}{59} & \\frac{60 \\left(-4\\right)^{k}}{59} - \\frac{3^{k}}{59} & \\frac{21 \\left(-4\\right)^{k}}{59} - \\frac{21 \\cdot 3^{k}}{59}\\\\- \\frac{5 \\left(-4\\right)^{k}}{118} + \\frac{5 \\cdot 3^{k}}{118} & - \\frac{10 \\left(-4\\right)^{k}}{59} + \\frac{10 \\cdot 3^{k}}{59} & - \\frac{7 \\left(-4\\right)^{k}}{118} + \\frac{125 \\cdot 3^{k}}{118}\\end{matrix}\\right]$"
          },
          "metadata": {},
          "execution_count": 11
        }
      ],
      "source": [
        "# Exact fractions - many digits: \n",
        "B_k = Q*(E**k)*(Q.inv())\n",
        "B_k"
      ]
    },
    {
      "cell_type": "code",
      "execution_count": 12,
      "metadata": {
        "colab": {
          "base_uri": "https://localhost:8080/",
          "height": 108
        },
        "id": "LxXNUFK9BzNi",
        "outputId": "c5670601-7686-4a24-aa8a-b7e7c0f1bb81"
      },
      "outputs": [
        {
          "output_type": "execute_result",
          "data": {
            "text/plain": [
              "Matrix([\n",
              "[  0.0423728813559322*(-4)**k + 0.957627118644068*3**k,  0.169491525423729*(-4)**k - 0.169491525423729*3**k, 0.0593220338983051*(-4)**k - 0.0593220338983051*3**k],\n",
              "[   0.254237288135593*(-4)**k - 0.254237288135593*3**k,  1.01694915254237*(-4)**k - 0.0169491525423729*3**k,   0.355932203389831*(-4)**k - 0.355932203389831*3**k],\n",
              "[-0.0423728813559322*(-4)**k + 0.0423728813559322*3**k, -0.169491525423729*(-4)**k + 0.169491525423729*3**k,  -0.0593220338983051*(-4)**k + 1.05932203389831*3**k]])"
            ],
            "text/latex": "$\\displaystyle \\left[\\begin{matrix}0.0423728813559322 \\left(-4\\right)^{k} + 0.957627118644068 \\cdot 3^{k} & 0.169491525423729 \\left(-4\\right)^{k} - 0.169491525423729 \\cdot 3^{k} & 0.0593220338983051 \\left(-4\\right)^{k} - 0.0593220338983051 \\cdot 3^{k}\\\\0.254237288135593 \\left(-4\\right)^{k} - 0.254237288135593 \\cdot 3^{k} & 1.01694915254237 \\left(-4\\right)^{k} - 0.0169491525423729 \\cdot 3^{k} & 0.355932203389831 \\left(-4\\right)^{k} - 0.355932203389831 \\cdot 3^{k}\\\\- 0.0423728813559322 \\left(-4\\right)^{k} + 0.0423728813559322 \\cdot 3^{k} & - 0.169491525423729 \\left(-4\\right)^{k} + 0.169491525423729 \\cdot 3^{k} & - 0.0593220338983051 \\left(-4\\right)^{k} + 1.05932203389831 \\cdot 3^{k}\\end{matrix}\\right]$"
          },
          "metadata": {},
          "execution_count": 12
        }
      ],
      "source": [
        "# Easy decimal approcimations: \n",
        "1.0*B_k"
      ]
    }
  ],
  "metadata": {
    "kernelspec": {
      "display_name": "Python 3",
      "language": "python",
      "name": "python3"
    },
    "language_info": {
      "codemirror_mode": {
        "name": "ipython",
        "version": 3
      },
      "file_extension": ".py",
      "mimetype": "text/x-python",
      "name": "python",
      "nbconvert_exporter": "python",
      "pygments_lexer": "ipython3",
      "version": "3.7.3"
    },
    "colab": {
      "name": "9B - Matrix Diagonalization and Large Power.ipynb",
      "provenance": [],
      "include_colab_link": true
    }
  },
  "nbformat": 4,
  "nbformat_minor": 0
}