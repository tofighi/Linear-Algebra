{
  "cells": [
    {
      "cell_type": "markdown",
      "metadata": {
        "id": "view-in-github",
        "colab_type": "text"
      },
      "source": [
        "<a href=\"https://colab.research.google.com/github/tofighi/Linear-Algebra/blob/main/Solving_The_System_of_Linear_Equations_Using_SymPy.ipynb\" target=\"_parent\"><img src=\"https://colab.research.google.com/assets/colab-badge.svg\" alt=\"Open In Colab\"/></a>"
      ]
    },
    {
      "cell_type": "markdown",
      "metadata": {
        "id": "RnAtCEgqLY7v"
      },
      "source": [
        "# What is Symbolic Computation?\n",
        "Symbolic computation deals with the computation of mathematical objects symbolically. This means that the mathematical objects are represented exactly, not approximately, and mathematical expressions with unevaluated variables are left in symbolic form.\n",
        "\n",
        "# SymPy Solver Demo\n",
        "let's create a symbolic variable $z$, and define an arbitrary equation of $55.9728340445699z^2+32z−28.1086638217203=0$, and solve it symbolically. "
      ]
    },
    {
      "cell_type": "code",
      "execution_count": 1,
      "metadata": {
        "colab": {
          "base_uri": "https://localhost:8080/",
          "height": 37
        },
        "id": "_ozBY17gLY71",
        "outputId": "e7597d06-eca3-42e5-f210-b4ef4a5be4a3"
      },
      "outputs": [
        {
          "output_type": "execute_result",
          "data": {
            "image/png": "[encoded data removed]",
            "text/latex": "$\\displaystyle 0.838670567945424$",
            "text/plain": [
              "0.838670567945424"
            ]
          },
          "metadata": {},
          "execution_count": 1
        }
      ],
      "source": [
        "# Written by Jacob Chodoriwsky and Ghassem Tofighi\n",
        "# SymPy is the python library for symbolic mathematics.\n",
        "# https://docs.sympy.org/latest/index.html\n",
        "import sympy as sp\n",
        "import math\n",
        "sp.init_printing(use_unicode=True)\n",
        "\n",
        "# Define z as a symbolic variable.\n",
        "z = sp.symbols('z')\n",
        "\n",
        "# Get the k-value, substitute it into the function. \n",
        "# Note that cos() takes angles in radians, so convert from degrees. \n",
        "k = math.cos(math.radians(33))\n",
        "k"
      ]
    },
    {
      "cell_type": "code",
      "execution_count": 2,
      "metadata": {
        "colab": {
          "base_uri": "https://localhost:8080/",
          "height": 38
        },
        "id": "IlCWyO3hLY78",
        "outputId": "a3ad4f7d-1a2a-4331-c96a-b369b8f7dff6"
      },
      "outputs": [
        {
          "output_type": "execute_result",
          "data": {
            "image/png": "[encoded data removed]",
            "text/latex": "$\\displaystyle 55.9728340445699 z^{2} + 32 z - 28.1086638217203$",
            "text/plain": [
              "                  2                          \n",
              "55.9728340445699⋅z  + 32⋅z - 28.1086638217203"
            ]
          },
          "metadata": {},
          "execution_count": 2
        }
      ],
      "source": [
        "# Define our function. \n",
        "f = (81*k**2 - 1)*z**2 + 32*z + (324*k**2 - 256)\n",
        "f"
      ]
    },
    {
      "cell_type": "code",
      "execution_count": 3,
      "metadata": {
        "scrolled": true,
        "colab": {
          "base_uri": "https://localhost:8080/",
          "height": 38
        },
        "id": "zdQL0CKlLY79",
        "outputId": "ab50a8eb-353e-400f-c632-31e39649f805"
      },
      "outputs": [
        {
          "output_type": "execute_result",
          "data": {
            "image/png": "[encoded data removed]",
            "text/latex": "$\\displaystyle 55.9728340445699 z^{2} + 32 z - 28.1086638217203 = 0$",
            "text/plain": [
              "                  2                              \n",
              "55.9728340445699⋅z  + 32⋅z - 28.1086638217203 = 0"
            ]
          },
          "metadata": {},
          "execution_count": 3
        }
      ],
      "source": [
        "# Define the related equation. \n",
        "eqn = sp.Eq(f,0)\n",
        "eqn"
      ]
    },
    {
      "cell_type": "code",
      "execution_count": 4,
      "metadata": {
        "colab": {
          "base_uri": "https://localhost:8080/",
          "height": 37
        },
        "id": "bqJO4r9jLY7-",
        "outputId": "7eb14e01-046e-4f69-f06c-cd8b5ec29832"
      },
      "outputs": [
        {
          "output_type": "execute_result",
          "data": {
            "image/png": "[encoded data removed]",
            "text/latex": "$\\displaystyle \\left\\{-1.0499838008032, 0.478277891209287\\right\\}$",
            "text/plain": [
              "{-1.0499838008032, 0.478277891209287}"
            ]
          },
          "metadata": {},
          "execution_count": 4
        }
      ],
      "source": [
        "# Solve the equation\n",
        "sp.solveset(eqn, z)"
      ]
    },
    {
      "cell_type": "markdown",
      "source": [
        "# How calculate RREF and solve system of linear equations in SymPy?\n",
        "Assume the following system of linear equations. SymPy can reduce the following matrices to RREF:\n",
        "\n",
        "$\\left(\\begin{array}{ccc|c}1 & 2 & -4 & 12 \\\\ 2 & 6 & 8 & 14 \\\\ 0 & 1 & 8 & -5\\end{array}\\right)$\n",
        "\n",
        "\\begin{alignedat}{3}\n",
        "% R & L   &  R & L   &  R & L \n",
        "  x & +{} &  2y & +{} & -4z & = 12 \\\\\n",
        "  2x & +{} &  6y & +{} &  8z & = 14 \\\\\n",
        " & {} &  y & +{} &  8z & = -5 \\\\\n",
        "\\end{alignedat}\n",
        "\n",
        "To calculate RREF we can use augmented matrix as follows:"
      ],
      "metadata": {
        "id": "QQqQdONilPc4"
      }
    },
    {
      "cell_type": "code",
      "source": [
        "#Defining symbolic augmented matrix\n",
        "A = sp.Matrix([[1,2,-4,12],[2,6,8,14],[0,1,8,-5]])\n",
        "A\n"
      ],
      "metadata": {
        "colab": {
          "base_uri": "https://localhost:8080/",
          "height": 78
        },
        "id": "8_Ni7zTtmza2",
        "outputId": "0e578fbf-3535-4dae-aef3-da884cbe8be9"
      },
      "execution_count": 5,
      "outputs": [
        {
          "output_type": "execute_result",
          "data": {
            "text/latex": "$\\displaystyle \\left[\\begin{matrix}1 & 2 & -4 & 12\\\\2 & 6 & 8 & 14\\\\0 & 1 & 8 & -5\\end{matrix}\\right]$",
            "text/plain": [
              "⎡1  2  -4  12⎤\n",
              "⎢            ⎥\n",
              "⎢2  6  8   14⎥\n",
              "⎢            ⎥\n",
              "⎣0  1  8   -5⎦"
            ]
          },
          "metadata": {},
          "execution_count": 5
        }
      ]
    },
    {
      "cell_type": "code",
      "source": [
        "# print RREF\n",
        "A.rref()"
      ],
      "metadata": {
        "colab": {
          "base_uri": "https://localhost:8080/",
          "height": 78
        },
        "id": "0aQsfntinCNQ",
        "outputId": "c29be4c2-1714-4c1c-8b55-21122ff6901b"
      },
      "execution_count": 6,
      "outputs": [
        {
          "output_type": "execute_result",
          "data": {
            "text/latex": "$\\displaystyle \\left( \\left[\\begin{matrix}1 & 0 & -20 & 22\\\\0 & 1 & 8 & -5\\\\0 & 0 & 0 & 0\\end{matrix}\\right], \\  \\left( 0, \\  1\\right)\\right)$",
            "text/plain": [
              "⎛⎡1  0  -20  22⎤        ⎞\n",
              "⎜⎢             ⎥        ⎟\n",
              "⎜⎢0  1   8   -5⎥, (0, 1)⎟\n",
              "⎜⎢             ⎥        ⎟\n",
              "⎝⎣0  0   0   0 ⎦        ⎠"
            ]
          },
          "metadata": {},
          "execution_count": 6
        }
      ]
    },
    {
      "cell_type": "markdown",
      "source": [
        "# Solving system of linear equations in SymPy\n",
        "\n",
        "RREF method does not provide final solutions for the following system of linear equations:\n",
        "\n",
        "\\begin{alignedat}{3}\n",
        "% R & L   &  R & L   &  R & L \n",
        "  x & +{} &  2y & +{} & -4z & = 12 \\\\\n",
        "  2x & +{} &  6y & +{} &  8z & = 14 \\\\\n",
        " & {} &  y & +{} &  8z & = -5 \\\\\n",
        "\\end{alignedat}\n",
        "\n",
        "To find solutions in Sympy you should use the *Sandard Matrix Representation*, $A\\mathbf{x}=\\mathbf{b}$:\n",
        "\n",
        "\\begin{alignedat}{3}\n",
        "\\left[\\begin{array}{ccc}1 & 2 & -4 \\\\ 2 & 6 & 8 \\\\ 0 & 1 & 8\\end{array}\\right]\\left[\\begin{array}{l}x \\\\ y \\\\ z\\end{array}\\right]=\\left[\\begin{array}{c}12 \\\\ 14 \\\\ -5\\end{array}\\right]\n",
        "\\end{alignedat}\n",
        "\n",
        "- $A$ is called the coefficient matrix\n",
        "- $\\mathbf{x}$ is the unknowns or solution vector\n",
        "- $\\mathbf{b}$ is the constant vector\n",
        "\n",
        "Where\n",
        "\n",
        "- $A=\\left[\\begin{array}{ccc}1 & 2 & -4 \\\\ 2 & 6 & 8 \\\\ 0 & 1 & 8\\end{array}\\right]$\n",
        "\n",
        "- $\\mathbf{x}=\\left[\\begin{array}{c}x \\\\ y \\\\ z\\end{array}\\right]$\n",
        "\n",
        "- $\\mathbf{b}=\\left[\\begin{array}{c}12 \\\\ 14 \\\\ -5\\end{array}\\right]$\n",
        "\n",
        "To solve the system you can use `sp.linsolve` as follows:"
      ],
      "metadata": {
        "id": "W7jWGcslrtTE"
      }
    },
    {
      "cell_type": "code",
      "source": [
        "x, y, z = sp.symbols('x, y, z')\n",
        "A = sp.Matrix([[1, 2, -4], [2, 6, 8], [0, 1, 8]])\n",
        "b = sp.Matrix([12, 14, -5])\n",
        "sp.linsolve((A, b), x, y, z)"
      ],
      "metadata": {
        "colab": {
          "base_uri": "https://localhost:8080/",
          "height": 38
        },
        "id": "jKBogiIynQ1B",
        "outputId": "57396551-2a34-4c10-dc31-b79e29a39973"
      },
      "execution_count": 7,
      "outputs": [
        {
          "output_type": "execute_result",
          "data": {
            "image/png": "[encoded data removed]",
            "text/latex": "$\\displaystyle \\left\\{\\left( 20 z + 22, \\  - 8 z - 5, \\  z\\right)\\right\\}$",
            "text/plain": [
              "{(20⋅z + 22, -8⋅z - 5, z)}"
            ]
          },
          "metadata": {},
          "execution_count": 7
        }
      ]
    },
    {
      "cell_type": "markdown",
      "source": [
        "The above answer is equivalent to what we find manually after solving using RREF method:\n",
        "$$\n",
        "\\begin{aligned}\n",
        "&z=t \\in \\mathbb{R}\\\\\n",
        "&y=-5-8 t \\\\\n",
        "&x=22+20 t\n",
        "\\end{aligned}\n",
        "$$"
      ],
      "metadata": {
        "id": "BUer6MUU0r_Q"
      }
    },
    {
      "cell_type": "markdown",
      "source": [
        "# Calculating the Inverse Matrix\n",
        "You can calculate the inverse of matrix using `inv()` method as follows: \n",
        "## Note:\n",
        "A square matrix is invertible if and only if the determinant is not equal to zero."
      ],
      "metadata": {
        "id": "EKmuK6I8KE9m"
      }
    },
    {
      "cell_type": "code",
      "source": [
        "A = sp.Matrix([[1, 2, -4], [2, 6, 8], [0, 1, 8]])\n",
        "if(A.det()!=0):\n",
        "  A_inv=A.inv()\n",
        "else:\n",
        "  A_inv=[]\n",
        "  print (\"Non Invertible Matrix: Matrix det == 0; not invertible.\")\n",
        "A_inv"
      ],
      "metadata": {
        "id": "gyG-VzCDKL_w",
        "outputId": "45894747-ee0f-4a93-c604-2082591646e9",
        "colab": {
          "base_uri": "https://localhost:8080/",
          "height": 56
        }
      },
      "execution_count": 8,
      "outputs": [
        {
          "output_type": "stream",
          "name": "stdout",
          "text": [
            "Non Invertible Matrix: Matrix det == 0; not invertible.\n"
          ]
        },
        {
          "output_type": "execute_result",
          "data": {
            "image/png": "[encoded data removed]",
            "text/latex": "$\\displaystyle \\left[ \\right]$",
            "text/plain": [
              "[]"
            ]
          },
          "metadata": {},
          "execution_count": 8
        }
      ]
    },
    {
      "cell_type": "code",
      "source": [
        "A = sp.Matrix([[2, 1, 0], [0, 4, -3], [1, -3, 2]])\n",
        "if(A.det()!=0):\n",
        "  A_inv=A.inv()\n",
        "else:\n",
        "  A_inv=[]\n",
        "  print (\"Non Invertible Matrix: Matrix det == 0; not invertible.\")\n",
        "\n",
        "A_inv"
      ],
      "metadata": {
        "id": "5BpE8u5CKNaY",
        "outputId": "e2a00d71-d0d2-4992-a473-b36f0a65a172",
        "colab": {
          "base_uri": "https://localhost:8080/",
          "height": 78
        }
      },
      "execution_count": 9,
      "outputs": [
        {
          "output_type": "execute_result",
          "data": {
            "text/latex": "$\\displaystyle \\left[\\begin{matrix}\\frac{1}{5} & \\frac{2}{5} & \\frac{3}{5}\\\\\\frac{3}{5} & - \\frac{4}{5} & - \\frac{6}{5}\\\\\\frac{4}{5} & - \\frac{7}{5} & - \\frac{8}{5}\\end{matrix}\\right]$",
            "text/plain": [
              "⎡1/5  2/5   3/5 ⎤\n",
              "⎢               ⎥\n",
              "⎢3/5  -4/5  -6/5⎥\n",
              "⎢               ⎥\n",
              "⎣4/5  -7/5  -8/5⎦"
            ]
          },
          "metadata": {},
          "execution_count": 9
        }
      ]
    }
  ],
  "metadata": {
    "kernelspec": {
      "display_name": "Python 3",
      "language": "python",
      "name": "python3"
    },
    "language_info": {
      "codemirror_mode": {
        "name": "ipython",
        "version": 3
      },
      "file_extension": ".py",
      "mimetype": "text/x-python",
      "name": "python",
      "nbconvert_exporter": "python",
      "pygments_lexer": "ipython3",
      "version": "3.7.3"
    },
    "colab": {
      "name": "Solving The System of Linear Equations Using SymPy.ipynb",
      "provenance": [],
      "include_colab_link": true
    }
  },
  "nbformat": 4,
  "nbformat_minor": 0
}