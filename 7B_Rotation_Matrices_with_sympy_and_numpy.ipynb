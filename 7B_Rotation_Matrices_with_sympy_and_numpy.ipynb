{
  "cells": [
    {
      "cell_type": "markdown",
      "metadata": {
        "id": "view-in-github",
        "colab_type": "text"
      },
      "source": [
        "<a href=\"https://colab.research.google.com/github/tofighi/Linear-Algebra/blob/main/7B_Rotation_Matrices_with_sympy_and_numpy.ipynb\" target=\"_parent\"><img src=\"https://colab.research.google.com/assets/colab-badge.svg\" alt=\"Open In Colab\"/></a>"
      ]
    },
    {
      "cell_type": "code",
      "execution_count": 1,
      "metadata": {
        "id": "0URsW5b9F-gf"
      },
      "outputs": [],
      "source": [
        "import numpy as np\n",
        "import sympy as sp\n",
        "import math\n",
        "sp.init_printing(use_unicode=True)"
      ]
    },
    {
      "cell_type": "markdown",
      "metadata": {
        "id": "v3_9aAflF-gh"
      },
      "source": [
        "# Compare sin30 and cos30 (numpy, sympy)"
      ]
    },
    {
      "cell_type": "code",
      "execution_count": 2,
      "metadata": {
        "colab": {
          "base_uri": "https://localhost:8080/"
        },
        "id": "ki5h35CuF-gi",
        "outputId": "67ebcb73-66f4-4403-8492-77500d144a75"
      },
      "outputs": [
        {
          "output_type": "stream",
          "name": "stdout",
          "text": [
            "0.49999999999999994 0.8660254037844387\n"
          ]
        }
      ],
      "source": [
        "# sin30 and cos30 using numpy: \n",
        "sin30 = np.sin(30*math.pi/180)\n",
        "cos30 = np.cos(30*math.pi/180)\n",
        "print(sin30, cos30)"
      ]
    },
    {
      "cell_type": "code",
      "execution_count": 3,
      "metadata": {
        "colab": {
          "base_uri": "https://localhost:8080/"
        },
        "id": "wApbDOuKF-gk",
        "outputId": "ea57ee8e-591a-4ed8-e2e3-0b84af401dfe"
      },
      "outputs": [
        {
          "output_type": "stream",
          "name": "stdout",
          "text": [
            "0.500000000000000 0.866025403784439\n"
          ]
        }
      ],
      "source": [
        "# sin30 and cos30 using sympy ... with 'regular' pi: \n",
        "sin30 = sp.sin(30*math.pi/180)\n",
        "cos30 = sp.cos(30*math.pi/180)\n",
        "print(sin30, cos30)"
      ]
    },
    {
      "cell_type": "code",
      "execution_count": 4,
      "metadata": {
        "colab": {
          "base_uri": "https://localhost:8080/"
        },
        "id": "3Rjb7YXPF-gl",
        "outputId": "7d95c634-d303-4ae4-863f-47dd22922c59"
      },
      "outputs": [
        {
          "output_type": "stream",
          "name": "stdout",
          "text": [
            "1/2 sqrt(3)/2\n"
          ]
        }
      ],
      "source": [
        "# sin30 and cos30 using sympy with exact pi: \n",
        "sin30e = sp.sin(30*sp.pi/180)\n",
        "cos30e = sp.cos(30*sp.pi/180)\n",
        "print(sin30e, cos30e)"
      ]
    },
    {
      "cell_type": "code",
      "execution_count": 5,
      "metadata": {
        "colab": {
          "base_uri": "https://localhost:8080/",
          "height": 51
        },
        "id": "AMxwpWwKF-gm",
        "outputId": "60c3a74d-d116-480b-9111-36d6234a6f36"
      },
      "outputs": [
        {
          "output_type": "execute_result",
          "data": {
            "text/plain": [
              "1/2"
            ],
            "image/png": "[encoded data removed]",
            "text/latex": "$\\displaystyle \\frac{1}{2}$"
          },
          "metadata": {},
          "execution_count": 5
        }
      ],
      "source": [
        "# results for sympy calculations are shown in LaTeX if called outside of print():\n",
        "sin30e"
      ]
    },
    {
      "cell_type": "code",
      "execution_count": 6,
      "metadata": {
        "scrolled": true,
        "colab": {
          "base_uri": "https://localhost:8080/",
          "height": 55
        },
        "id": "TGR-Wt71F-gm",
        "outputId": "0c8e932b-8389-4c46-d50a-fd956c7f3745"
      },
      "outputs": [
        {
          "output_type": "execute_result",
          "data": {
            "text/plain": [
              "√3\n",
              "──\n",
              "2 "
            ],
            "image/png": "[encoded data removed]",
            "text/latex": "$\\displaystyle \\frac{\\sqrt{3}}{2}$"
          },
          "metadata": {},
          "execution_count": 6
        }
      ],
      "source": [
        "# that's more obvious here: \n",
        "cos30e"
      ]
    },
    {
      "cell_type": "markdown",
      "metadata": {
        "id": "8aLsXeuLF-gn"
      },
      "source": [
        "# Setup rotation matrices and apply them to u=[3,2]"
      ]
    },
    {
      "cell_type": "code",
      "execution_count": 7,
      "metadata": {
        "colab": {
          "base_uri": "https://localhost:8080/",
          "height": 68
        },
        "id": "DEtcpCuxF-gn",
        "outputId": "ba8ca6c8-a484-4b82-84fc-09c6904dfc85"
      },
      "outputs": [
        {
          "output_type": "execute_result",
          "data": {
            "text/plain": [
              "⎡√3       ⎤\n",
              "⎢──   -1/2⎥\n",
              "⎢2        ⎥\n",
              "⎢         ⎥\n",
              "⎢      √3 ⎥\n",
              "⎢1/2   ── ⎥\n",
              "⎣      2  ⎦"
            ],
            "text/latex": "$\\displaystyle \\left[\\begin{matrix}\\frac{\\sqrt{3}}{2} & - \\frac{1}{2}\\\\\\frac{1}{2} & \\frac{\\sqrt{3}}{2}\\end{matrix}\\right]$"
          },
          "metadata": {},
          "execution_count": 7
        }
      ],
      "source": [
        "# rot30 will be a sympy matrix with exact values. \n",
        "rot30 = sp.Matrix([[cos30e, -1*sin30e], [sin30e, cos30e]])\n",
        "rot30"
      ]
    },
    {
      "cell_type": "code",
      "execution_count": 8,
      "metadata": {
        "colab": {
          "base_uri": "https://localhost:8080/",
          "height": 57
        },
        "id": "MEQVgLwoF-go",
        "outputId": "35270511-1451-48a8-bdcc-0d2c997f9843"
      },
      "outputs": [
        {
          "output_type": "execute_result",
          "data": {
            "text/plain": [
              "⎡3⎤\n",
              "⎢ ⎥\n",
              "⎣2⎦"
            ],
            "text/latex": "$\\displaystyle \\left[\\begin{matrix}3\\\\2\\end{matrix}\\right]$"
          },
          "metadata": {},
          "execution_count": 8
        }
      ],
      "source": [
        "u = sp.Matrix([3,2])\n",
        "u"
      ]
    },
    {
      "cell_type": "code",
      "execution_count": 9,
      "metadata": {
        "colab": {
          "base_uri": "https://localhost:8080/",
          "height": 68
        },
        "id": "vBJFwYG7F-go",
        "outputId": "9d58b7fc-f72a-4f0b-c419-7cd81916b8fa"
      },
      "outputs": [
        {
          "output_type": "execute_result",
          "data": {
            "text/plain": [
              "⎡     3⋅√3⎤\n",
              "⎢-1 + ────⎥\n",
              "⎢      2  ⎥\n",
              "⎢         ⎥\n",
              "⎣3/2 + √3 ⎦"
            ],
            "text/latex": "$\\displaystyle \\left[\\begin{matrix}-1 + \\frac{3 \\sqrt{3}}{2}\\\\\\frac{3}{2} + \\sqrt{3}\\end{matrix}\\right]$"
          },
          "metadata": {},
          "execution_count": 9
        }
      ],
      "source": [
        "# Remember you can use * for matrix multiplication in sympy only\n",
        "R30u = rot30*u\n",
        "R30u"
      ]
    },
    {
      "cell_type": "code",
      "execution_count": 10,
      "metadata": {
        "colab": {
          "base_uri": "https://localhost:8080/"
        },
        "id": "U7KEXS76F-gp",
        "outputId": "e7723917-adca-4f66-b5ea-2f824ad2309f"
      },
      "outputs": [
        {
          "output_type": "execute_result",
          "data": {
            "text/plain": [
              "array([[0.866025403784439, -0.500000000000000],\n",
              "       [0.500000000000000, 0.866025403784439]], dtype=object)"
            ]
          },
          "metadata": {},
          "execution_count": 10
        }
      ],
      "source": [
        "# Let's repeat our results using numpy: \n",
        "rot30n = np.array([[cos30, -1*sin30], [sin30, cos30]])\n",
        "rot30n"
      ]
    },
    {
      "cell_type": "code",
      "execution_count": 11,
      "metadata": {
        "colab": {
          "base_uri": "https://localhost:8080/"
        },
        "id": "sJrdb5GqF-gq",
        "outputId": "1f098a0f-7ce5-475a-efad-9b48d1ed4262"
      },
      "outputs": [
        {
          "output_type": "execute_result",
          "data": {
            "text/plain": [
              "array([[1.59807621135332],\n",
              "       [3.23205080756888]], dtype=object)"
            ]
          },
          "metadata": {},
          "execution_count": 11
        }
      ],
      "source": [
        "# Numpy does floating point calculations so all answers are in decimals. It's fast but less precise than sympy. \n",
        "R30un = np.dot(rot30n, u)\n",
        "R30un"
      ]
    }
  ],
  "metadata": {
    "kernelspec": {
      "display_name": "Python 3",
      "language": "python",
      "name": "python3"
    },
    "language_info": {
      "codemirror_mode": {
        "name": "ipython",
        "version": 3
      },
      "file_extension": ".py",
      "mimetype": "text/x-python",
      "name": "python",
      "nbconvert_exporter": "python",
      "pygments_lexer": "ipython3",
      "version": "3.7.3"
    },
    "colab": {
      "name": "7B_Rotation Matrices with sympy and numpy.ipynb",
      "provenance": [],
      "include_colab_link": true
    }
  },
  "nbformat": 4,
  "nbformat_minor": 0
}