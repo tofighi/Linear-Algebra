{
  "nbformat": 4,
  "nbformat_minor": 0,
  "metadata": {
    "colab": {
      "name": "M02 - Matrix Operations.ipynb",
      "provenance": [],
      "authorship_tag": "ABX9TyMqSTNQJjC9iEhUKCkhnIUh",
      "include_colab_link": true
    },
    "kernelspec": {
      "name": "python3",
      "display_name": "Python 3"
    },
    "language_info": {
      "name": "python"
    }
  },
  "cells": [
    {
      "cell_type": "markdown",
      "metadata": {
        "id": "view-in-github",
        "colab_type": "text"
      },
      "source": [
        "<a href=\"https://colab.research.google.com/github/tofighi/Linear-Algebra/blob/main/M02_Matrix_Operations.ipynb\" target=\"_parent\"><img src=\"https://colab.research.google.com/assets/colab-badge.svg\" alt=\"Open In Colab\"/></a>"
      ]
    },
    {
      "cell_type": "markdown",
      "source": [
        "# Differences in Matrix Representation - SymPy vs. NumPy\n",
        "SymPy stores entries in 1D arrays, while NumPy stores entries in 2D arrays."
      ],
      "metadata": {
        "id": "HPugJM05N_44"
      }
    },
    {
      "cell_type": "code",
      "execution_count": null,
      "metadata": {
        "id": "4Rbzz0mGITMx"
      },
      "outputs": [],
      "source": [
        "import sympy as sp \n",
        "import numpy as np\n",
        "sp.init_printing(use_unicode=True)"
      ]
    },
    {
      "cell_type": "code",
      "source": [
        "#Sympy version of our demo matrix\n",
        "As = sp.Matrix([[1,2,3], [4,5,6]])\n",
        "As"
      ],
      "metadata": {
        "colab": {
          "base_uri": "https://localhost:8080/",
          "height": 58
        },
        "id": "SW_LC59ia3Ea",
        "outputId": "54c25765-8792-4577-cfcb-300a5c7a197c"
      },
      "execution_count": null,
      "outputs": [
        {
          "output_type": "execute_result",
          "data": {
            "text/latex": "$\\displaystyle \\left[\\begin{matrix}1 & 2 & 3\\\\4 & 5 & 6\\end{matrix}\\right]$",
            "text/plain": [
              "⎡1  2  3⎤\n",
              "⎢       ⎥\n",
              "⎣4  5  6⎦"
            ]
          },
          "metadata": {},
          "execution_count": 2
        }
      ]
    },
    {
      "cell_type": "code",
      "source": [
        "#Numpy version of our demo matrix - Libraries are inter-compatible\n",
        "An = np. array(As)\n",
        "An"
      ],
      "metadata": {
        "colab": {
          "base_uri": "https://localhost:8080/"
        },
        "id": "9N7fxat-bCQQ",
        "outputId": "44375ba2-0f82-4a47-a4e5-130d350db2f7"
      },
      "execution_count": null,
      "outputs": [
        {
          "output_type": "execute_result",
          "data": {
            "text/plain": [
              "array([[1, 2, 3],\n",
              "       [4, 5, 6]], dtype=object)"
            ]
          },
          "metadata": {},
          "execution_count": 3
        }
      ]
    },
    {
      "cell_type": "code",
      "source": [
        "#We can't obtain the dimensions of the SymPy Matrix easily\n",
        "len(As)"
      ],
      "metadata": {
        "colab": {
          "base_uri": "https://localhost:8080/",
          "height": 37
        },
        "id": "7IntWgy3cYUV",
        "outputId": "e41cabe0-e6e2-43df-b823-440c28363f40"
      },
      "execution_count": null,
      "outputs": [
        {
          "output_type": "execute_result",
          "data": {
            "image/png": "[encoded data removed]",
            "text/latex": "$\\displaystyle 6$",
            "text/plain": [
              "6"
            ]
          },
          "metadata": {},
          "execution_count": 4
        }
      ]
    },
    {
      "cell_type": "code",
      "source": [
        "#We can obtain the size of the NumPy Matrix:\n",
        "size= [len(An), len(An[0])]\n",
        "size"
      ],
      "metadata": {
        "colab": {
          "base_uri": "https://localhost:8080/",
          "height": 37
        },
        "id": "21xC-bokcm1x",
        "outputId": "3d42238a-3bed-4fe3-e5c3-d00ba06eec99"
      },
      "execution_count": null,
      "outputs": [
        {
          "output_type": "execute_result",
          "data": {
            "image/png": "[encoded data removed]",
            "text/latex": "$\\displaystyle \\left[ 2, \\  3\\right]$",
            "text/plain": [
              "[2, 3]"
            ]
          },
          "metadata": {},
          "execution_count": 5
        }
      ]
    },
    {
      "cell_type": "code",
      "source": [
        "#We can also obtain the size of the NumPy Matrix using shape property\n",
        "An.shape"
      ],
      "metadata": {
        "colab": {
          "base_uri": "https://localhost:8080/",
          "height": 37
        },
        "id": "IZi-0tzGcx2h",
        "outputId": "bc447c42-ebc3-47c5-d9d1-7f51f1aaabbc"
      },
      "execution_count": null,
      "outputs": [
        {
          "output_type": "execute_result",
          "data": {
            "image/png": "[encoded data removed]",
            "text/latex": "$\\displaystyle \\left( 2, \\  3\\right)$",
            "text/plain": [
              "(2, 3)"
            ]
          },
          "metadata": {},
          "execution_count": 6
        }
      ]
    },
    {
      "cell_type": "code",
      "source": [
        "An"
      ],
      "metadata": {
        "colab": {
          "base_uri": "https://localhost:8080/"
        },
        "id": "-8xyBjkBc0SG",
        "outputId": "3db47734-97ca-4101-af5c-01193e0e7508"
      },
      "execution_count": null,
      "outputs": [
        {
          "output_type": "execute_result",
          "data": {
            "text/plain": [
              "array([[1, 2, 3],\n",
              "       [4, 5, 6]], dtype=object)"
            ]
          },
          "metadata": {},
          "execution_count": 7
        }
      ]
    },
    {
      "cell_type": "code",
      "source": [
        "An+1"
      ],
      "metadata": {
        "colab": {
          "base_uri": "https://localhost:8080/"
        },
        "id": "RGuBihb0dQdl",
        "outputId": "c57d8b15-8564-4c44-b20b-e9dcd3748661"
      },
      "execution_count": null,
      "outputs": [
        {
          "output_type": "execute_result",
          "data": {
            "text/plain": [
              "array([[2, 3, 4],\n",
              "       [5, 6, 7]], dtype=object)"
            ]
          },
          "metadata": {},
          "execution_count": 8
        }
      ]
    },
    {
      "cell_type": "code",
      "source": [
        "As.T"
      ],
      "metadata": {
        "colab": {
          "base_uri": "https://localhost:8080/",
          "height": 78
        },
        "id": "BCOHEOwfdS1O",
        "outputId": "152b582f-8544-484f-88df-1f8ad461fd0f"
      },
      "execution_count": null,
      "outputs": [
        {
          "output_type": "execute_result",
          "data": {
            "text/latex": "$\\displaystyle \\left[\\begin{matrix}1 & 4\\\\2 & 5\\\\3 & 6\\end{matrix}\\right]$",
            "text/plain": [
              "⎡1  4⎤\n",
              "⎢    ⎥\n",
              "⎢2  5⎥\n",
              "⎢    ⎥\n",
              "⎣3  6⎦"
            ]
          },
          "metadata": {},
          "execution_count": 9
        }
      ]
    },
    {
      "cell_type": "code",
      "source": [
        "An.T"
      ],
      "metadata": {
        "colab": {
          "base_uri": "https://localhost:8080/"
        },
        "id": "ybDYgTPDdW0I",
        "outputId": "fe133914-0664-494c-c603-390837be174a"
      },
      "execution_count": null,
      "outputs": [
        {
          "output_type": "execute_result",
          "data": {
            "text/plain": [
              "array([[1, 4],\n",
              "       [2, 5],\n",
              "       [3, 6]], dtype=object)"
            ]
          },
          "metadata": {},
          "execution_count": 10
        }
      ]
    },
    {
      "cell_type": "code",
      "source": [
        "3*As"
      ],
      "metadata": {
        "colab": {
          "base_uri": "https://localhost:8080/",
          "height": 58
        },
        "id": "bzTVKektdjtK",
        "outputId": "830be1b3-748e-46e9-d306-22ffcec8ffcd"
      },
      "execution_count": null,
      "outputs": [
        {
          "output_type": "execute_result",
          "data": {
            "text/latex": "$\\displaystyle \\left[\\begin{matrix}3 & 6 & 9\\\\12 & 15 & 18\\end{matrix}\\right]$",
            "text/plain": [
              "⎡3   6   9 ⎤\n",
              "⎢          ⎥\n",
              "⎣12  15  18⎦"
            ]
          },
          "metadata": {},
          "execution_count": 11
        }
      ]
    },
    {
      "cell_type": "code",
      "source": [
        "As/2"
      ],
      "metadata": {
        "colab": {
          "base_uri": "https://localhost:8080/",
          "height": 58
        },
        "id": "JN-f6RiIdntL",
        "outputId": "b04923e3-6a84-4775-8b9a-c6a1838f2fcf"
      },
      "execution_count": null,
      "outputs": [
        {
          "output_type": "execute_result",
          "data": {
            "text/latex": "$\\displaystyle \\left[\\begin{matrix}\\frac{1}{2} & 1 & \\frac{3}{2}\\\\2 & \\frac{5}{2} & 3\\end{matrix}\\right]$",
            "text/plain": [
              "⎡1/2   1   3/2⎤\n",
              "⎢             ⎥\n",
              "⎣ 2   5/2   3 ⎦"
            ]
          },
          "metadata": {},
          "execution_count": 12
        }
      ]
    },
    {
      "cell_type": "code",
      "source": [
        "Bs = 3*As\n",
        "Bs"
      ],
      "metadata": {
        "colab": {
          "base_uri": "https://localhost:8080/",
          "height": 58
        },
        "id": "AxdprR8bdsxW",
        "outputId": "8ef44b82-2414-4571-d7c8-80fdd0b93c1a"
      },
      "execution_count": null,
      "outputs": [
        {
          "output_type": "execute_result",
          "data": {
            "text/latex": "$\\displaystyle \\left[\\begin{matrix}3 & 6 & 9\\\\12 & 15 & 18\\end{matrix}\\right]$",
            "text/plain": [
              "⎡3   6   9 ⎤\n",
              "⎢          ⎥\n",
              "⎣12  15  18⎦"
            ]
          },
          "metadata": {},
          "execution_count": 13
        }
      ]
    },
    {
      "cell_type": "code",
      "source": [
        "#As is 2x3 Bs^T is 3x2, so the product is 2x2 ...\n",
        "As*Bs.T"
      ],
      "metadata": {
        "colab": {
          "base_uri": "https://localhost:8080/",
          "height": 58
        },
        "id": "CvscWFkjEfek",
        "outputId": "3d25d6ba-1c7b-493d-c572-f4c6a2a6ce51"
      },
      "execution_count": null,
      "outputs": [
        {
          "output_type": "execute_result",
          "data": {
            "text/latex": "$\\displaystyle \\left[\\begin{matrix}42 & 96\\\\96 & 231\\end{matrix}\\right]$",
            "text/plain": [
              "⎡42  96 ⎤\n",
              "⎢       ⎥\n",
              "⎣96  231⎦"
            ]
          },
          "metadata": {},
          "execution_count": 14
        }
      ]
    },
    {
      "cell_type": "code",
      "source": [
        "#Try the following code, it will generate ShapeError: Matrix size mismatch: (2, 3) * (2, 3).\n",
        "#As*Bs"
      ],
      "metadata": {
        "id": "p7tCNxxVHsgD"
      },
      "execution_count": null,
      "outputs": []
    },
    {
      "cell_type": "code",
      "source": [
        "# You can use Numpy library as well\n",
        "Bn = 3*An\n",
        "Bn"
      ],
      "metadata": {
        "colab": {
          "base_uri": "https://localhost:8080/"
        },
        "id": "lSIySx_uJQ_Y",
        "outputId": "19dc9990-d43d-471e-8444-8a19d89ae85d"
      },
      "execution_count": null,
      "outputs": [
        {
          "output_type": "execute_result",
          "data": {
            "text/plain": [
              "array([[3, 6, 9],\n",
              "       [12, 15, 18]], dtype=object)"
            ]
          },
          "metadata": {},
          "execution_count": 16
        }
      ]
    },
    {
      "cell_type": "code",
      "source": [
        "# we use dot method in Numpy for Matrix multiplications\n",
        "np.dot(An, Bn. T)"
      ],
      "metadata": {
        "colab": {
          "base_uri": "https://localhost:8080/"
        },
        "id": "LVeGZRy8JlkS",
        "outputId": "c7602184-d063-4adb-ecd7-a59a669e8221"
      },
      "execution_count": null,
      "outputs": [
        {
          "output_type": "execute_result",
          "data": {
            "text/plain": [
              "array([[42, 96],\n",
              "       [96, 231]], dtype=object)"
            ]
          },
          "metadata": {},
          "execution_count": 17
        }
      ]
    },
    {
      "cell_type": "code",
      "source": [
        "# if you use * for multiplication in Numpy, it is element-wise, it is NOT a matrix product\n",
        "An*Bn"
      ],
      "metadata": {
        "colab": {
          "base_uri": "https://localhost:8080/"
        },
        "id": "FulvRPSmJ1J_",
        "outputId": "cce72f9e-7bdb-4153-d38d-6852e3147fdb"
      },
      "execution_count": null,
      "outputs": [
        {
          "output_type": "execute_result",
          "data": {
            "text/plain": [
              "array([[3, 12, 27],\n",
              "       [48, 75, 108]], dtype=object)"
            ]
          },
          "metadata": {},
          "execution_count": 18
        }
      ]
    },
    {
      "cell_type": "markdown",
      "source": [
        "# Matrix Inverse"
      ],
      "metadata": {
        "id": "REtjeXqyKi_x"
      }
    },
    {
      "cell_type": "code",
      "source": [
        "x = np.array([[1,2],[3,4]]) \n",
        "y = np.linalg.inv(x) \n",
        "print (x) \n",
        "print (y) \n",
        "print (np.dot(x,y))"
      ],
      "metadata": {
        "colab": {
          "base_uri": "https://localhost:8080/"
        },
        "id": "j75a6z-1KIct",
        "outputId": "ce93bc7e-2117-46a7-9a61-d724fd23d70e"
      },
      "execution_count": null,
      "outputs": [
        {
          "output_type": "stream",
          "name": "stdout",
          "text": [
            "[[1 2]\n",
            " [3 4]]\n",
            "[[-2.   1. ]\n",
            " [ 1.5 -0.5]]\n",
            "[[1.0000000e+00 0.0000000e+00]\n",
            " [8.8817842e-16 1.0000000e+00]]\n"
          ]
        }
      ]
    }
  ]
}