{
  "nbformat": 4,
  "nbformat_minor": 0,
  "metadata": {
    "colab": {
      "name": "RREF-Gaussian Elimination.ipynb",
      "provenance": [],
      "authorship_tag": "ABX9TyPe9punbxAyznagNBN2/Hrq",
      "include_colab_link": true
    },
    "kernelspec": {
      "name": "python3",
      "display_name": "Python 3"
    },
    "language_info": {
      "name": "python"
    }
  },
  "cells": [
    {
      "cell_type": "markdown",
      "metadata": {
        "id": "view-in-github",
        "colab_type": "text"
      },
      "source": [
        "<a href=\"https://colab.research.google.com/github/tofighi/Linear-Algebra/blob/main/RREF_Gaussian_Elimination.ipynb\" target=\"_parent\"><img src=\"https://colab.research.google.com/assets/colab-badge.svg\" alt=\"Open In Colab\"/></a>"
      ]
    },
    {
      "cell_type": "markdown",
      "source": [
        "# RREF Calculation\n",
        "Using the `SymPy` library (Symbolic Python), we can obtain the exact unique RREF of any matrix easily. With the help of `sympy.Matrix().rref()` method, we can put a matrix into Reduced Row Echelon Form. `Matrix().rref()` returns a tuple of two elements. The first is the Reduced Row Echelon Form (RREF), and the second is a tuple of indices of the pivot columns (columns with leading 1s)."
      ],
      "metadata": {
        "id": "HPugJM05N_44"
      }
    },
    {
      "cell_type": "code",
      "execution_count": null,
      "metadata": {
        "id": "4Rbzz0mGITMx"
      },
      "outputs": [],
      "source": [
        "import sympy as sp\n",
        "from sympy import Matrix, linsolve, symbols\n",
        "sp.init_printing(use_unicode=True)"
      ]
    },
    {
      "cell_type": "markdown",
      "source": [
        "#Example\n",
        "\n",
        "Solve the following system of linear equations:\n",
        "\n",
        "$\n",
        "\\left\\{\\begin{aligned} \n",
        "x+3y+5z &=8 \\\\\n",
        "-2x+4y+9z &=3 \\\\\n",
        "-x+7y+14z &=11 \\end{aligned}\\right.\n",
        "$"
      ],
      "metadata": {
        "id": "nw0zq_O7hWHI"
      }
    },
    {
      "cell_type": "code",
      "source": [
        "A = sp.Matrix([[1,3,5,8],[-2,4,9,3],[-1,7,14,11]])\n",
        "A"
      ],
      "metadata": {
        "colab": {
          "base_uri": "https://localhost:8080/",
          "height": 78
        },
        "id": "uKZF_LaSIYje",
        "outputId": "01fdf274-1e39-42fb-ceea-ee3ad9ead1bc"
      },
      "execution_count": null,
      "outputs": [
        {
          "output_type": "execute_result",
          "data": {
            "text/latex": "$\\displaystyle \\left[\\begin{matrix}1 & 3 & 5 & 8\\\\-2 & 4 & 9 & 3\\\\-1 & 7 & 14 & 11\\end{matrix}\\right]$",
            "text/plain": [
              "⎡1   3  5   8 ⎤\n",
              "⎢             ⎥\n",
              "⎢-2  4  9   3 ⎥\n",
              "⎢             ⎥\n",
              "⎣-1  7  14  11⎦"
            ]
          },
          "metadata": {},
          "execution_count": 2
        }
      ]
    },
    {
      "cell_type": "code",
      "source": [
        "#get the exact RREF of A with the pivot columns identified\n",
        "B = A.rref()\n",
        "B "
      ],
      "metadata": {
        "colab": {
          "base_uri": "https://localhost:8080/",
          "height": 78
        },
        "id": "u4YCvKUkOxkz",
        "outputId": "4230d0d9-3f25-4998-d046-ccc85d0aabe9"
      },
      "execution_count": null,
      "outputs": [
        {
          "output_type": "execute_result",
          "data": {
            "text/latex": "$\\displaystyle \\left( \\left[\\begin{matrix}1 & 0 & - \\frac{7}{10} & \\frac{23}{10}\\\\0 & 1 & \\frac{19}{10} & \\frac{19}{10}\\\\0 & 0 & 0 & 0\\end{matrix}\\right], \\  \\left( 0, \\  1\\right)\\right)$",
            "text/plain": [
              "⎛⎡             23⎤        ⎞\n",
              "⎜⎢1  0  -7/10  ──⎥        ⎟\n",
              "⎜⎢             10⎥        ⎟\n",
              "⎜⎢               ⎥        ⎟\n",
              "⎜⎢       19    19⎥, (0, 1)⎟\n",
              "⎜⎢0  1   ──    ──⎥        ⎟\n",
              "⎜⎢       10    10⎥        ⎟\n",
              "⎜⎢               ⎥        ⎟\n",
              "⎝⎣0  0    0    0 ⎦        ⎠"
            ]
          },
          "metadata": {},
          "execution_count": 3
        }
      ]
    },
    {
      "cell_type": "code",
      "source": [
        "# reduced matrix only\n",
        "B[0]"
      ],
      "metadata": {
        "colab": {
          "base_uri": "https://localhost:8080/",
          "height": 78
        },
        "id": "hmMvbEb5JI2M",
        "outputId": "02a3513a-3215-4d91-a317-9285072f6bb5"
      },
      "execution_count": null,
      "outputs": [
        {
          "output_type": "execute_result",
          "data": {
            "text/latex": "$\\displaystyle \\left[\\begin{matrix}1 & 0 & - \\frac{7}{10} & \\frac{23}{10}\\\\0 & 1 & \\frac{19}{10} & \\frac{19}{10}\\\\0 & 0 & 0 & 0\\end{matrix}\\right]$",
            "text/plain": [
              "⎡             23⎤\n",
              "⎢1  0  -7/10  ──⎥\n",
              "⎢             10⎥\n",
              "⎢               ⎥\n",
              "⎢       19    19⎥\n",
              "⎢0  1   ──    ──⎥\n",
              "⎢       10    10⎥\n",
              "⎢               ⎥\n",
              "⎣0  0    0    0 ⎦"
            ]
          },
          "metadata": {},
          "execution_count": 4
        }
      ]
    },
    {
      "cell_type": "code",
      "source": [
        "# pivot columns only\n",
        "B[1]"
      ],
      "metadata": {
        "colab": {
          "base_uri": "https://localhost:8080/",
          "height": 38
        },
        "id": "hoKgXnNbJMp5",
        "outputId": "4a61cb6a-9db3-404f-b21e-51c727f043e5"
      },
      "execution_count": null,
      "outputs": [
        {
          "output_type": "execute_result",
          "data": {
            "image/png": "[encoded data removed]",
            "text/latex": "$\\displaystyle \\left( 0, \\  1\\right)$",
            "text/plain": [
              "(0, 1)"
            ]
          },
          "metadata": {},
          "execution_count": 5
        }
      ]
    }
  ]
}